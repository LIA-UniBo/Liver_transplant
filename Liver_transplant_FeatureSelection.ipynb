{
 "cells": [
  {
   "cell_type": "code",
   "execution_count": 7,
   "metadata": {
    "slideshow": {
     "slide_type": "skip"
    }
   },
   "outputs": [],
   "source": [
    "import pandas as pd\n",
    "import numpy as np\n",
    "import warnings\n",
    "warnings.filterwarnings('ignore')\n",
    "\n",
    "import matplotlib.pyplot as plt\n",
    "import seaborn as sns\n",
    "%matplotlib inline\n",
    "\n",
    "from sklearn.model_selection import train_test_split\n",
    "\n",
    "from sklearn.ensemble import RandomForestRegressor, RandomForestClassifier\n",
    "from sklearn.metrics import roc_auc_score\n",
    "\n",
    "from mlxtend.feature_selection import ExhaustiveFeatureSelector as EFS"
   ]
  },
  {
   "cell_type": "code",
   "execution_count": 8,
   "metadata": {},
   "outputs": [
    {
     "ename": "ImportError",
     "evalue": "Missing optional dependency 'xlrd'. Install xlrd >= 1.0.0 for Excel support Use pip or conda to install xlrd.",
     "output_type": "error",
     "traceback": [
      "\u001b[0;31m---------------------------------------------------------------------------\u001b[0m",
      "\u001b[0;31mImportError\u001b[0m                               Traceback (most recent call last)",
      "\u001b[0;32m<ipython-input-8-fbe1d92487a6>\u001b[0m in \u001b[0;36m<module>\u001b[0;34m\u001b[0m\n\u001b[1;32m      1\u001b[0m \u001b[0;31m# load dataset\u001b[0m\u001b[0;34m\u001b[0m\u001b[0;34m\u001b[0m\u001b[0;34m\u001b[0m\u001b[0m\n\u001b[0;32m----> 2\u001b[0;31m \u001b[0mdata\u001b[0m \u001b[0;34m=\u001b[0m \u001b[0mpd\u001b[0m\u001b[0;34m.\u001b[0m\u001b[0mread_excel\u001b[0m\u001b[0;34m(\u001b[0m\u001b[0;34m'../dati_IA_ok.xlsx'\u001b[0m\u001b[0;34m,\u001b[0m \u001b[0mnrows\u001b[0m\u001b[0;34m=\u001b[0m\u001b[0;36m50000\u001b[0m\u001b[0;34m)\u001b[0m\u001b[0;34m\u001b[0m\u001b[0;34m\u001b[0m\u001b[0m\n\u001b[0m\u001b[1;32m      3\u001b[0m \u001b[0mdata\u001b[0m\u001b[0;34m.\u001b[0m\u001b[0mshape\u001b[0m\u001b[0;34m\u001b[0m\u001b[0;34m\u001b[0m\u001b[0m\n",
      "\u001b[0;32m~/.local/lib/python3.6/site-packages/pandas/util/_decorators.py\u001b[0m in \u001b[0;36mwrapper\u001b[0;34m(*args, **kwargs)\u001b[0m\n\u001b[1;32m    294\u001b[0m                 )\n\u001b[1;32m    295\u001b[0m                 \u001b[0mwarnings\u001b[0m\u001b[0;34m.\u001b[0m\u001b[0mwarn\u001b[0m\u001b[0;34m(\u001b[0m\u001b[0mmsg\u001b[0m\u001b[0;34m,\u001b[0m \u001b[0mFutureWarning\u001b[0m\u001b[0;34m,\u001b[0m \u001b[0mstacklevel\u001b[0m\u001b[0;34m=\u001b[0m\u001b[0mstacklevel\u001b[0m\u001b[0;34m)\u001b[0m\u001b[0;34m\u001b[0m\u001b[0;34m\u001b[0m\u001b[0m\n\u001b[0;32m--> 296\u001b[0;31m             \u001b[0;32mreturn\u001b[0m \u001b[0mfunc\u001b[0m\u001b[0;34m(\u001b[0m\u001b[0;34m*\u001b[0m\u001b[0margs\u001b[0m\u001b[0;34m,\u001b[0m \u001b[0;34m**\u001b[0m\u001b[0mkwargs\u001b[0m\u001b[0;34m)\u001b[0m\u001b[0;34m\u001b[0m\u001b[0;34m\u001b[0m\u001b[0m\n\u001b[0m\u001b[1;32m    297\u001b[0m \u001b[0;34m\u001b[0m\u001b[0m\n\u001b[1;32m    298\u001b[0m         \u001b[0;32mreturn\u001b[0m \u001b[0mwrapper\u001b[0m\u001b[0;34m\u001b[0m\u001b[0;34m\u001b[0m\u001b[0m\n",
      "\u001b[0;32m~/.local/lib/python3.6/site-packages/pandas/io/excel/_base.py\u001b[0m in \u001b[0;36mread_excel\u001b[0;34m(io, sheet_name, header, names, index_col, usecols, squeeze, dtype, engine, converters, true_values, false_values, skiprows, nrows, na_values, keep_default_na, na_filter, verbose, parse_dates, date_parser, thousands, comment, skipfooter, convert_float, mangle_dupe_cols)\u001b[0m\n\u001b[1;32m    302\u001b[0m \u001b[0;34m\u001b[0m\u001b[0m\n\u001b[1;32m    303\u001b[0m     \u001b[0;32mif\u001b[0m \u001b[0;32mnot\u001b[0m \u001b[0misinstance\u001b[0m\u001b[0;34m(\u001b[0m\u001b[0mio\u001b[0m\u001b[0;34m,\u001b[0m \u001b[0mExcelFile\u001b[0m\u001b[0;34m)\u001b[0m\u001b[0;34m:\u001b[0m\u001b[0;34m\u001b[0m\u001b[0;34m\u001b[0m\u001b[0m\n\u001b[0;32m--> 304\u001b[0;31m         \u001b[0mio\u001b[0m \u001b[0;34m=\u001b[0m \u001b[0mExcelFile\u001b[0m\u001b[0;34m(\u001b[0m\u001b[0mio\u001b[0m\u001b[0;34m,\u001b[0m \u001b[0mengine\u001b[0m\u001b[0;34m=\u001b[0m\u001b[0mengine\u001b[0m\u001b[0;34m)\u001b[0m\u001b[0;34m\u001b[0m\u001b[0;34m\u001b[0m\u001b[0m\n\u001b[0m\u001b[1;32m    305\u001b[0m     \u001b[0;32melif\u001b[0m \u001b[0mengine\u001b[0m \u001b[0;32mand\u001b[0m \u001b[0mengine\u001b[0m \u001b[0;34m!=\u001b[0m \u001b[0mio\u001b[0m\u001b[0;34m.\u001b[0m\u001b[0mengine\u001b[0m\u001b[0;34m:\u001b[0m\u001b[0;34m\u001b[0m\u001b[0;34m\u001b[0m\u001b[0m\n\u001b[1;32m    306\u001b[0m         raise ValueError(\n",
      "\u001b[0;32m~/.local/lib/python3.6/site-packages/pandas/io/excel/_base.py\u001b[0m in \u001b[0;36m__init__\u001b[0;34m(self, path_or_buffer, engine)\u001b[0m\n\u001b[1;32m    865\u001b[0m         \u001b[0mself\u001b[0m\u001b[0;34m.\u001b[0m\u001b[0m_io\u001b[0m \u001b[0;34m=\u001b[0m \u001b[0mstringify_path\u001b[0m\u001b[0;34m(\u001b[0m\u001b[0mpath_or_buffer\u001b[0m\u001b[0;34m)\u001b[0m\u001b[0;34m\u001b[0m\u001b[0;34m\u001b[0m\u001b[0m\n\u001b[1;32m    866\u001b[0m \u001b[0;34m\u001b[0m\u001b[0m\n\u001b[0;32m--> 867\u001b[0;31m         \u001b[0mself\u001b[0m\u001b[0;34m.\u001b[0m\u001b[0m_reader\u001b[0m \u001b[0;34m=\u001b[0m \u001b[0mself\u001b[0m\u001b[0;34m.\u001b[0m\u001b[0m_engines\u001b[0m\u001b[0;34m[\u001b[0m\u001b[0mengine\u001b[0m\u001b[0;34m]\u001b[0m\u001b[0;34m(\u001b[0m\u001b[0mself\u001b[0m\u001b[0;34m.\u001b[0m\u001b[0m_io\u001b[0m\u001b[0;34m)\u001b[0m\u001b[0;34m\u001b[0m\u001b[0;34m\u001b[0m\u001b[0m\n\u001b[0m\u001b[1;32m    868\u001b[0m \u001b[0;34m\u001b[0m\u001b[0m\n\u001b[1;32m    869\u001b[0m     \u001b[0;32mdef\u001b[0m \u001b[0m__fspath__\u001b[0m\u001b[0;34m(\u001b[0m\u001b[0mself\u001b[0m\u001b[0;34m)\u001b[0m\u001b[0;34m:\u001b[0m\u001b[0;34m\u001b[0m\u001b[0;34m\u001b[0m\u001b[0m\n",
      "\u001b[0;32m~/.local/lib/python3.6/site-packages/pandas/io/excel/_xlrd.py\u001b[0m in \u001b[0;36m__init__\u001b[0;34m(self, filepath_or_buffer)\u001b[0m\n\u001b[1;32m     19\u001b[0m         \"\"\"\n\u001b[1;32m     20\u001b[0m         \u001b[0merr_msg\u001b[0m \u001b[0;34m=\u001b[0m \u001b[0;34m\"Install xlrd >= 1.0.0 for Excel support\"\u001b[0m\u001b[0;34m\u001b[0m\u001b[0;34m\u001b[0m\u001b[0m\n\u001b[0;32m---> 21\u001b[0;31m         \u001b[0mimport_optional_dependency\u001b[0m\u001b[0;34m(\u001b[0m\u001b[0;34m\"xlrd\"\u001b[0m\u001b[0;34m,\u001b[0m \u001b[0mextra\u001b[0m\u001b[0;34m=\u001b[0m\u001b[0merr_msg\u001b[0m\u001b[0;34m)\u001b[0m\u001b[0;34m\u001b[0m\u001b[0;34m\u001b[0m\u001b[0m\n\u001b[0m\u001b[1;32m     22\u001b[0m         \u001b[0msuper\u001b[0m\u001b[0;34m(\u001b[0m\u001b[0;34m)\u001b[0m\u001b[0;34m.\u001b[0m\u001b[0m__init__\u001b[0m\u001b[0;34m(\u001b[0m\u001b[0mfilepath_or_buffer\u001b[0m\u001b[0;34m)\u001b[0m\u001b[0;34m\u001b[0m\u001b[0;34m\u001b[0m\u001b[0m\n\u001b[1;32m     23\u001b[0m \u001b[0;34m\u001b[0m\u001b[0m\n",
      "\u001b[0;32m~/.local/lib/python3.6/site-packages/pandas/compat/_optional.py\u001b[0m in \u001b[0;36mimport_optional_dependency\u001b[0;34m(name, extra, raise_on_missing, on_version)\u001b[0m\n\u001b[1;32m    108\u001b[0m     \u001b[0;32mexcept\u001b[0m \u001b[0mImportError\u001b[0m\u001b[0;34m:\u001b[0m\u001b[0;34m\u001b[0m\u001b[0;34m\u001b[0m\u001b[0m\n\u001b[1;32m    109\u001b[0m         \u001b[0;32mif\u001b[0m \u001b[0mraise_on_missing\u001b[0m\u001b[0;34m:\u001b[0m\u001b[0;34m\u001b[0m\u001b[0;34m\u001b[0m\u001b[0m\n\u001b[0;32m--> 110\u001b[0;31m             \u001b[0;32mraise\u001b[0m \u001b[0mImportError\u001b[0m\u001b[0;34m(\u001b[0m\u001b[0mmsg\u001b[0m\u001b[0;34m)\u001b[0m \u001b[0;32mfrom\u001b[0m \u001b[0;32mNone\u001b[0m\u001b[0;34m\u001b[0m\u001b[0;34m\u001b[0m\u001b[0m\n\u001b[0m\u001b[1;32m    111\u001b[0m         \u001b[0;32melse\u001b[0m\u001b[0;34m:\u001b[0m\u001b[0;34m\u001b[0m\u001b[0;34m\u001b[0m\u001b[0m\n\u001b[1;32m    112\u001b[0m             \u001b[0;32mreturn\u001b[0m \u001b[0;32mNone\u001b[0m\u001b[0;34m\u001b[0m\u001b[0;34m\u001b[0m\u001b[0m\n",
      "\u001b[0;31mImportError\u001b[0m: Missing optional dependency 'xlrd'. Install xlrd >= 1.0.0 for Excel support Use pip or conda to install xlrd."
     ]
    }
   ],
   "source": [
    "# load dataset\n",
    "data = pd.read_excel('../dati.xlsx', nrows=50000)\n",
    "data.shape"
   ]
  },
  {
   "cell_type": "code",
   "execution_count": 53,
   "metadata": {},
   "outputs": [
    {
     "data": {
      "text/html": [
       "<div>\n",
       "<style scoped>\n",
       "    .dataframe tbody tr th:only-of-type {\n",
       "        vertical-align: middle;\n",
       "    }\n",
       "\n",
       "    .dataframe tbody tr th {\n",
       "        vertical-align: top;\n",
       "    }\n",
       "\n",
       "    .dataframe thead th {\n",
       "        text-align: right;\n",
       "    }\n",
       "</style>\n",
       "<table border=\"1\" class=\"dataframe\">\n",
       "  <thead>\n",
       "    <tr style=\"text-align: right;\">\n",
       "      <th></th>\n",
       "      <th>ctx</th>\n",
       "      <th>codice_dm</th>\n",
       "      <th>lista_id</th>\n",
       "      <th>pers_sesso</th>\n",
       "      <th>pers_eta_ingresso_in_lista</th>\n",
       "      <th>diagnosi</th>\n",
       "      <th>diagnosi_specifica</th>\n",
       "      <th>eltr</th>\n",
       "      <th>lista_ingresso_data</th>\n",
       "      <th>tot_tx_organo</th>\n",
       "      <th>...</th>\n",
       "      <th>donatore_HBeAg</th>\n",
       "      <th>donatore_HBeAb</th>\n",
       "      <th>donatore_antiCoreTot</th>\n",
       "      <th>donatore_hbv_dna</th>\n",
       "      <th>donatore_hcv_rna</th>\n",
       "      <th>donatore_steatosiMacro</th>\n",
       "      <th>donatore_biopsiaEpatica</th>\n",
       "      <th>donatore_biopsiaRenale</th>\n",
       "      <th>donatore_livelloRischioPreLT</th>\n",
       "      <th>donatore_variazioneLivello</th>\n",
       "    </tr>\n",
       "  </thead>\n",
       "  <tbody>\n",
       "    <tr>\n",
       "      <th>2306</th>\n",
       "      <td>BOLOGNA</td>\n",
       "      <td>89357</td>\n",
       "      <td>40632</td>\n",
       "      <td>M</td>\n",
       "      <td>54</td>\n",
       "      <td>Epatocarcinoma associato a cirrosi</td>\n",
       "      <td>NaN</td>\n",
       "      <td>E1 : Cancers-Hepatocellular carcinoma and cirr...</td>\n",
       "      <td>2020-10-19</td>\n",
       "      <td>0.0</td>\n",
       "      <td>...</td>\n",
       "      <td>NaN</td>\n",
       "      <td>NaN</td>\n",
       "      <td>NEG</td>\n",
       "      <td>NEG</td>\n",
       "      <td>NEG</td>\n",
       "      <td>NaN</td>\n",
       "      <td>Descrizione macroscopica: biopsia epatica cune...</td>\n",
       "      <td>NaN</td>\n",
       "      <td>NON STANDARD con RISCHIO ACCETTABILE</td>\n",
       "      <td>NaN</td>\n",
       "    </tr>\n",
       "    <tr>\n",
       "      <th>2307</th>\n",
       "      <td>BOLOGNA</td>\n",
       "      <td>89384</td>\n",
       "      <td>40643</td>\n",
       "      <td>M</td>\n",
       "      <td>48</td>\n",
       "      <td>Localizzazione epatiche di neoplasie maligne o...</td>\n",
       "      <td>Metastasi epatiche non-resecabili di origine c...</td>\n",
       "      <td>E11 : Cancers-Secondary liver tumors - Colorectal</td>\n",
       "      <td>2020-10-21</td>\n",
       "      <td>0.0</td>\n",
       "      <td>...</td>\n",
       "      <td>NaN</td>\n",
       "      <td>NaN</td>\n",
       "      <td>NEG</td>\n",
       "      <td>NEG</td>\n",
       "      <td>NEG</td>\n",
       "      <td>NaN</td>\n",
       "      <td>NaN</td>\n",
       "      <td>NaN</td>\n",
       "      <td>NON STANDARD con RISCHIO ACCETTABILE</td>\n",
       "      <td>NaN</td>\n",
       "    </tr>\n",
       "    <tr>\n",
       "      <th>2308</th>\n",
       "      <td>BOLOGNA</td>\n",
       "      <td>89625</td>\n",
       "      <td>40686</td>\n",
       "      <td>M</td>\n",
       "      <td>62</td>\n",
       "      <td>Epatocarcinoma associato a cirrosi</td>\n",
       "      <td>NaN</td>\n",
       "      <td>E1 : Cancers-Hepatocellular carcinoma and cirr...</td>\n",
       "      <td>2020-11-05</td>\n",
       "      <td>0.0</td>\n",
       "      <td>...</td>\n",
       "      <td>NaN</td>\n",
       "      <td>NaN</td>\n",
       "      <td>NEG</td>\n",
       "      <td>none seguito</td>\n",
       "      <td>none seguito</td>\n",
       "      <td>25.0</td>\n",
       "      <td>Cuneo epatico sottoglissoniano e agobiopsia ep...</td>\n",
       "      <td>NaN</td>\n",
       "      <td>NON STANDARD con RISCHIO ACCETTABILE</td>\n",
       "      <td>MGUS</td>\n",
       "    </tr>\n",
       "    <tr>\n",
       "      <th>2309</th>\n",
       "      <td>BOLOGNA</td>\n",
       "      <td>89889</td>\n",
       "      <td>40719</td>\n",
       "      <td>F</td>\n",
       "      <td>69</td>\n",
       "      <td>Cirrosi biliare primitiva</td>\n",
       "      <td>NaN</td>\n",
       "      <td>B2 : Cholestatic disease-Primary biliary cirrh...</td>\n",
       "      <td>2020-11-26</td>\n",
       "      <td>0.0</td>\n",
       "      <td>...</td>\n",
       "      <td>NaN</td>\n",
       "      <td>NaN</td>\n",
       "      <td>NEG</td>\n",
       "      <td>NEG</td>\n",
       "      <td>NEG</td>\n",
       "      <td>30.0</td>\n",
       "      <td>Cuneo sottoglissoniano e biopsia intraparenchi...</td>\n",
       "      <td>Biopsia del rene destro, comprendente compless...</td>\n",
       "      <td>Standard</td>\n",
       "      <td>NaN</td>\n",
       "    </tr>\n",
       "    <tr>\n",
       "      <th>2310</th>\n",
       "      <td>BOLOGNA</td>\n",
       "      <td>89931</td>\n",
       "      <td>40727</td>\n",
       "      <td>M</td>\n",
       "      <td>31</td>\n",
       "      <td>Altra epatopatia colestatica</td>\n",
       "      <td>NaN</td>\n",
       "      <td>B4 : Cholestatic disease-Others specify</td>\n",
       "      <td>2020-11-27</td>\n",
       "      <td>0.0</td>\n",
       "      <td>...</td>\n",
       "      <td>NaN</td>\n",
       "      <td>NaN</td>\n",
       "      <td>POS</td>\n",
       "      <td>NEG</td>\n",
       "      <td>NEG</td>\n",
       "      <td>NaN</td>\n",
       "      <td>NaN</td>\n",
       "      <td>NaN</td>\n",
       "      <td>NON STANDARD con RISCHIO TRASCURABILE</td>\n",
       "      <td>NaN</td>\n",
       "    </tr>\n",
       "  </tbody>\n",
       "</table>\n",
       "<p>5 rows × 149 columns</p>\n",
       "</div>"
      ],
      "text/plain": [
       "          ctx  codice_dm  lista_id pers_sesso  pers_eta_ingresso_in_lista  \\\n",
       "2306  BOLOGNA      89357     40632          M                          54   \n",
       "2307  BOLOGNA      89384     40643          M                          48   \n",
       "2308  BOLOGNA      89625     40686          M                          62   \n",
       "2309  BOLOGNA      89889     40719          F                          69   \n",
       "2310  BOLOGNA      89931     40727          M                          31   \n",
       "\n",
       "                                               diagnosi  \\\n",
       "2306                 Epatocarcinoma associato a cirrosi   \n",
       "2307  Localizzazione epatiche di neoplasie maligne o...   \n",
       "2308                 Epatocarcinoma associato a cirrosi   \n",
       "2309                          Cirrosi biliare primitiva   \n",
       "2310                       Altra epatopatia colestatica   \n",
       "\n",
       "                                     diagnosi_specifica  \\\n",
       "2306                                                NaN   \n",
       "2307  Metastasi epatiche non-resecabili di origine c...   \n",
       "2308                                                NaN   \n",
       "2309                                                NaN   \n",
       "2310                                                NaN   \n",
       "\n",
       "                                                   eltr lista_ingresso_data  \\\n",
       "2306  E1 : Cancers-Hepatocellular carcinoma and cirr...          2020-10-19   \n",
       "2307  E11 : Cancers-Secondary liver tumors - Colorectal          2020-10-21   \n",
       "2308  E1 : Cancers-Hepatocellular carcinoma and cirr...          2020-11-05   \n",
       "2309  B2 : Cholestatic disease-Primary biliary cirrh...          2020-11-26   \n",
       "2310            B4 : Cholestatic disease-Others specify          2020-11-27   \n",
       "\n",
       "      tot_tx_organo  ...  donatore_HBeAg donatore_HBeAb donatore_antiCoreTot  \\\n",
       "2306            0.0  ...             NaN            NaN                  NEG   \n",
       "2307            0.0  ...             NaN            NaN                  NEG   \n",
       "2308            0.0  ...             NaN            NaN                  NEG   \n",
       "2309            0.0  ...             NaN            NaN                  NEG   \n",
       "2310            0.0  ...             NaN            NaN                  POS   \n",
       "\n",
       "     donatore_hbv_dna donatore_hcv_rna donatore_steatosiMacro  \\\n",
       "2306              NEG              NEG                    NaN   \n",
       "2307              NEG              NEG                    NaN   \n",
       "2308     none seguito     none seguito                   25.0   \n",
       "2309              NEG              NEG                   30.0   \n",
       "2310              NEG              NEG                    NaN   \n",
       "\n",
       "                                donatore_biopsiaEpatica  \\\n",
       "2306  Descrizione macroscopica: biopsia epatica cune...   \n",
       "2307                                                NaN   \n",
       "2308  Cuneo epatico sottoglissoniano e agobiopsia ep...   \n",
       "2309  Cuneo sottoglissoniano e biopsia intraparenchi...   \n",
       "2310                                                NaN   \n",
       "\n",
       "                                 donatore_biopsiaRenale  \\\n",
       "2306                                                NaN   \n",
       "2307                                                NaN   \n",
       "2308                                                NaN   \n",
       "2309  Biopsia del rene destro, comprendente compless...   \n",
       "2310                                                NaN   \n",
       "\n",
       "               donatore_livelloRischioPreLT  donatore_variazioneLivello  \n",
       "2306   NON STANDARD con RISCHIO ACCETTABILE                         NaN  \n",
       "2307   NON STANDARD con RISCHIO ACCETTABILE                         NaN  \n",
       "2308   NON STANDARD con RISCHIO ACCETTABILE                        MGUS  \n",
       "2309                               Standard                         NaN  \n",
       "2310  NON STANDARD con RISCHIO TRASCURABILE                         NaN  \n",
       "\n",
       "[5 rows x 149 columns]"
      ]
     },
     "execution_count": 53,
     "metadata": {},
     "output_type": "execute_result"
    }
   ],
   "source": [
    "data.tail()"
   ]
  },
  {
   "cell_type": "code",
   "execution_count": 54,
   "metadata": {},
   "outputs": [
    {
     "data": {
      "text/plain": [
       "(2311, 58)"
      ]
     },
     "execution_count": 54,
     "metadata": {},
     "output_type": "execute_result"
    }
   ],
   "source": [
    "# Encoding categorical variables into numbers\n",
    "numerics = ['int16', 'int32', 'int64', 'float16', 'float32', 'float64']\n",
    "numerical_vars = list(data.select_dtypes(include=numerics).columns)\n",
    "data = data[numerical_vars]\n",
    "data.shape"
   ]
  },
  {
   "cell_type": "code",
   "execution_count": 73,
   "metadata": {},
   "outputs": [
    {
     "data": {
      "text/plain": [
       "((1617, 56), (694, 56))"
      ]
     },
     "execution_count": 73,
     "metadata": {},
     "output_type": "execute_result"
    }
   ],
   "source": [
    "# separate train and test sets\n",
    "X_train, X_test, y_train, y_test = train_test_split(\n",
    "    data.drop(labels=['codice_dm', 'lista_id'], axis=1),\n",
    "    data['codice_dm'],\n",
    "    test_size=0.3,\n",
    "    random_state=0)\n",
    "\n",
    "X_train.shape, X_test.shape"
   ]
  },
  {
   "cell_type": "code",
   "execution_count": 74,
   "metadata": {},
   "outputs": [
    {
     "name": "stdout",
     "output_type": "stream",
     "text": [
      "correlated features:  23\n"
     ]
    }
   ],
   "source": [
    "# find and remove correlated features\n",
    "# in order to reduce the feature space a bit\n",
    "# so that the algorithm takes shorter\n",
    "\n",
    "def correlation(dataset, threshold):\n",
    "    col_corr = set()  # Set of all the names of correlated columns\n",
    "    corr_matrix = dataset.corr()\n",
    "    for i in range(len(corr_matrix.columns)):\n",
    "        for j in range(i):\n",
    "            if abs(corr_matrix.iloc[i, j]) > threshold: # we are interested in absolute coeff value\n",
    "                colname = corr_matrix.columns[i]  # getting the name of column\n",
    "                col_corr.add(colname)\n",
    "    return col_corr\n",
    "\n",
    "corr_features = correlation(X_train, 0.8)\n",
    "print('correlated features: ', len(set(corr_features)) )"
   ]
  },
  {
   "cell_type": "code",
   "execution_count": 59,
   "metadata": {},
   "outputs": [
    {
     "data": {
      "text/plain": [
       "((1617, 33), (694, 33))"
      ]
     },
     "execution_count": 59,
     "metadata": {},
     "output_type": "execute_result"
    }
   ],
   "source": [
    "# removed correlated  features\n",
    "X_train.drop(labels=corr_features, axis=1, inplace=True)\n",
    "X_test.drop(labels=corr_features, axis=1, inplace=True)\n",
    "\n",
    "X_train.shape, X_test.shape"
   ]
  },
  {
   "cell_type": "code",
   "execution_count": 60,
   "metadata": {},
   "outputs": [
    {
     "data": {
      "text/plain": [
       "Index(['pers_eta_ingresso_in_lista', 'tot_tx_organo', 'Na', 'Peso', 'Altezza',\n",
       "       'BMI', 'MELD_in_ingresso', 'HCC_noduli', 'HCC_diam_max',\n",
       "       'HCC_diam_totale', 'AFP', 'ISO2_valid_increment', 'ISO2_valid_giorni',\n",
       "       'codice_sit_donazione', 'donatore_eta', 'trap_don_decesso_id',\n",
       "       'donatore_peso', 'donatore_altezza', 'donatore_BMI',\n",
       "       'donatore_giorni_ricovero'],\n",
       "      dtype='object')"
      ]
     },
     "execution_count": 60,
     "metadata": {},
     "output_type": "execute_result"
    }
   ],
   "source": [
    "X_train.columns[0:20]"
   ]
  },
  {
   "cell_type": "code",
   "execution_count": 62,
   "metadata": {},
   "outputs": [
    {
     "name": "stderr",
     "output_type": "stream",
     "text": [
      "Features: 15/15"
     ]
    }
   ],
   "source": [
    "# exhaustive feature selection\n",
    "# Using 10 features with ROC_AUC Scoring\n",
    "\n",
    "efs1 = EFS(RandomForestClassifier(n_jobs=4, random_state=0), \n",
    "           min_features=1,\n",
    "           max_features=4, \n",
    "           #scoring='roc_auc',\n",
    "           print_progress=True,\n",
    "           cv=2)\n",
    "\n",
    "efs1 = efs1.fit(np.array(X_train[X_train.columns[0:4]].fillna(0)), y_train)"
   ]
  },
  {
   "cell_type": "code",
   "execution_count": 63,
   "metadata": {},
   "outputs": [],
   "source": [
    "def run_randomForests(X_train, X_test, y_train, y_test):\n",
    "    rf = RandomForestClassifier(n_estimators=200, random_state=39, max_depth=4)\n",
    "    rf.fit(X_train, y_train)\n",
    "    print('Train set')\n",
    "    pred = rf.predict_proba(X_train)\n",
    "    print('Random Forests roc-auc: {}'.format(roc_auc_score(y_train, pred[:,1])))\n",
    "    print('Test set')\n",
    "    pred = rf.predict_proba(X_test)\n",
    "    print('Random Forests roc-auc: {}'.format(roc_auc_score(y_test, pred[:,1])))"
   ]
  },
  {
   "cell_type": "code",
   "execution_count": 64,
   "metadata": {},
   "outputs": [
    {
     "data": {
      "text/plain": [
       "(0, 3)"
      ]
     },
     "execution_count": 64,
     "metadata": {},
     "output_type": "execute_result"
    }
   ],
   "source": [
    "efs1.best_idx_"
   ]
  },
  {
   "cell_type": "code",
   "execution_count": 65,
   "metadata": {},
   "outputs": [
    {
     "data": {
      "text/plain": [
       "Index(['pers_eta_ingresso_in_lista', 'Peso'], dtype='object')"
      ]
     },
     "execution_count": 65,
     "metadata": {},
     "output_type": "execute_result"
    }
   ],
   "source": [
    "selected_feat= X_train.columns[list(efs1.best_idx_)]\n",
    "selected_feat"
   ]
  },
  {
   "cell_type": "code",
   "execution_count": 67,
   "metadata": {},
   "outputs": [
    {
     "data": {
      "text/plain": [
       "Index(['pers_eta_ingresso_in_lista', 'Peso'], dtype='object')"
      ]
     },
     "execution_count": 67,
     "metadata": {},
     "output_type": "execute_result"
    }
   ],
   "source": [
    "selected_feat= X_train.columns[list(efs1.best_idx_)]\n",
    "selected_feat"
   ]
  },
  {
   "cell_type": "code",
   "execution_count": 68,
   "metadata": {},
   "outputs": [
    {
     "name": "stdout",
     "output_type": "stream",
     "text": [
      "Train set\n"
     ]
    },
    {
     "ename": "ValueError",
     "evalue": "multi_class must be in ('ovo', 'ovr')",
     "output_type": "error",
     "traceback": [
      "\u001b[1;31m---------------------------------------------------------------------------\u001b[0m",
      "\u001b[1;31mValueError\u001b[0m                                Traceback (most recent call last)",
      "\u001b[1;32mc:\\Users\\John Clinton\\Desktop\\IS\\Liver_transplant\\Liver_transplant_extra - Copia.ipynb Cell 15'\u001b[0m in \u001b[0;36m<module>\u001b[1;34m\u001b[0m\n\u001b[0;32m      <a href='vscode-notebook-cell:/c%3A/Users/John%20Clinton/Desktop/IS/Liver_transplant/Liver_transplant_extra%20-%20Copia.ipynb#ch0000345?line=0'>1</a>\u001b[0m \u001b[39m# evaluate performance of classifier using selected features\u001b[39;00m\n\u001b[1;32m----> <a href='vscode-notebook-cell:/c%3A/Users/John%20Clinton/Desktop/IS/Liver_transplant/Liver_transplant_extra%20-%20Copia.ipynb#ch0000345?line=2'>3</a>\u001b[0m run_randomForests(X_train[selected_feat]\u001b[39m.\u001b[39;49mfillna(\u001b[39m0\u001b[39;49m),\n\u001b[0;32m      <a href='vscode-notebook-cell:/c%3A/Users/John%20Clinton/Desktop/IS/Liver_transplant/Liver_transplant_extra%20-%20Copia.ipynb#ch0000345?line=3'>4</a>\u001b[0m                   X_test[selected_feat]\u001b[39m.\u001b[39;49mfillna(\u001b[39m0\u001b[39;49m),\n\u001b[0;32m      <a href='vscode-notebook-cell:/c%3A/Users/John%20Clinton/Desktop/IS/Liver_transplant/Liver_transplant_extra%20-%20Copia.ipynb#ch0000345?line=4'>5</a>\u001b[0m                   y_train, y_test)\n",
      "\u001b[1;32mc:\\Users\\John Clinton\\Desktop\\IS\\Liver_transplant\\Liver_transplant_extra - Copia.ipynb Cell 11'\u001b[0m in \u001b[0;36mrun_randomForests\u001b[1;34m(X_train, X_test, y_train, y_test)\u001b[0m\n\u001b[0;32m      <a href='vscode-notebook-cell:/c%3A/Users/John%20Clinton/Desktop/IS/Liver_transplant/Liver_transplant_extra%20-%20Copia.ipynb#ch0000341?line=3'>4</a>\u001b[0m \u001b[39mprint\u001b[39m(\u001b[39m'\u001b[39m\u001b[39mTrain set\u001b[39m\u001b[39m'\u001b[39m)\n\u001b[0;32m      <a href='vscode-notebook-cell:/c%3A/Users/John%20Clinton/Desktop/IS/Liver_transplant/Liver_transplant_extra%20-%20Copia.ipynb#ch0000341?line=4'>5</a>\u001b[0m pred \u001b[39m=\u001b[39m rf\u001b[39m.\u001b[39mpredict_proba(X_train)\n\u001b[1;32m----> <a href='vscode-notebook-cell:/c%3A/Users/John%20Clinton/Desktop/IS/Liver_transplant/Liver_transplant_extra%20-%20Copia.ipynb#ch0000341?line=5'>6</a>\u001b[0m \u001b[39mprint\u001b[39m(\u001b[39m'\u001b[39m\u001b[39mRandom Forests roc-auc: \u001b[39m\u001b[39m{}\u001b[39;00m\u001b[39m'\u001b[39m\u001b[39m.\u001b[39mformat(roc_auc_score(y_train, pred[:,\u001b[39m1\u001b[39;49m])))\n\u001b[0;32m      <a href='vscode-notebook-cell:/c%3A/Users/John%20Clinton/Desktop/IS/Liver_transplant/Liver_transplant_extra%20-%20Copia.ipynb#ch0000341?line=6'>7</a>\u001b[0m \u001b[39mprint\u001b[39m(\u001b[39m'\u001b[39m\u001b[39mTest set\u001b[39m\u001b[39m'\u001b[39m)\n\u001b[0;32m      <a href='vscode-notebook-cell:/c%3A/Users/John%20Clinton/Desktop/IS/Liver_transplant/Liver_transplant_extra%20-%20Copia.ipynb#ch0000341?line=7'>8</a>\u001b[0m pred \u001b[39m=\u001b[39m rf\u001b[39m.\u001b[39mpredict_proba(X_test)\n",
      "File \u001b[1;32m~\\python\\lib\\site-packages\\sklearn\\metrics\\_ranking.py:560\u001b[0m, in \u001b[0;36mroc_auc_score\u001b[1;34m(y_true, y_score, average, sample_weight, max_fpr, multi_class, labels)\u001b[0m\n\u001b[0;32m    <a href='file:///~/python/lib/site-packages/sklearn/metrics/_ranking.py?line=552'>553</a>\u001b[0m         \u001b[39mraise\u001b[39;00m \u001b[39mValueError\u001b[39;00m(\n\u001b[0;32m    <a href='file:///~/python/lib/site-packages/sklearn/metrics/_ranking.py?line=553'>554</a>\u001b[0m             \u001b[39m\"\u001b[39m\u001b[39mPartial AUC computation not available in \u001b[39m\u001b[39m\"\u001b[39m\n\u001b[0;32m    <a href='file:///~/python/lib/site-packages/sklearn/metrics/_ranking.py?line=554'>555</a>\u001b[0m             \u001b[39m\"\u001b[39m\u001b[39mmulticlass setting, \u001b[39m\u001b[39m'\u001b[39m\u001b[39mmax_fpr\u001b[39m\u001b[39m'\u001b[39m\u001b[39m must be\u001b[39m\u001b[39m\"\u001b[39m\n\u001b[0;32m    <a href='file:///~/python/lib/site-packages/sklearn/metrics/_ranking.py?line=555'>556</a>\u001b[0m             \u001b[39m\"\u001b[39m\u001b[39m set to `None`, received `max_fpr=\u001b[39m\u001b[39m{0}\u001b[39;00m\u001b[39m` \u001b[39m\u001b[39m\"\u001b[39m\n\u001b[0;32m    <a href='file:///~/python/lib/site-packages/sklearn/metrics/_ranking.py?line=556'>557</a>\u001b[0m             \u001b[39m\"\u001b[39m\u001b[39minstead\u001b[39m\u001b[39m\"\u001b[39m\u001b[39m.\u001b[39mformat(max_fpr)\n\u001b[0;32m    <a href='file:///~/python/lib/site-packages/sklearn/metrics/_ranking.py?line=557'>558</a>\u001b[0m         )\n\u001b[0;32m    <a href='file:///~/python/lib/site-packages/sklearn/metrics/_ranking.py?line=558'>559</a>\u001b[0m     \u001b[39mif\u001b[39;00m multi_class \u001b[39m==\u001b[39m \u001b[39m\"\u001b[39m\u001b[39mraise\u001b[39m\u001b[39m\"\u001b[39m:\n\u001b[1;32m--> <a href='file:///~/python/lib/site-packages/sklearn/metrics/_ranking.py?line=559'>560</a>\u001b[0m         \u001b[39mraise\u001b[39;00m \u001b[39mValueError\u001b[39;00m(\u001b[39m\"\u001b[39m\u001b[39mmulti_class must be in (\u001b[39m\u001b[39m'\u001b[39m\u001b[39movo\u001b[39m\u001b[39m'\u001b[39m\u001b[39m, \u001b[39m\u001b[39m'\u001b[39m\u001b[39movr\u001b[39m\u001b[39m'\u001b[39m\u001b[39m)\u001b[39m\u001b[39m\"\u001b[39m)\n\u001b[0;32m    <a href='file:///~/python/lib/site-packages/sklearn/metrics/_ranking.py?line=560'>561</a>\u001b[0m     \u001b[39mreturn\u001b[39;00m _multiclass_roc_auc_score(\n\u001b[0;32m    <a href='file:///~/python/lib/site-packages/sklearn/metrics/_ranking.py?line=561'>562</a>\u001b[0m         y_true, y_score, labels, multi_class, average, sample_weight\n\u001b[0;32m    <a href='file:///~/python/lib/site-packages/sklearn/metrics/_ranking.py?line=562'>563</a>\u001b[0m     )\n\u001b[0;32m    <a href='file:///~/python/lib/site-packages/sklearn/metrics/_ranking.py?line=563'>564</a>\u001b[0m \u001b[39melif\u001b[39;00m y_type \u001b[39m==\u001b[39m \u001b[39m\"\u001b[39m\u001b[39mbinary\u001b[39m\u001b[39m\"\u001b[39m:\n",
      "\u001b[1;31mValueError\u001b[0m: multi_class must be in ('ovo', 'ovr')"
     ]
    }
   ],
   "source": [
    "# evaluate performance of classifier using selected features\n",
    "\n",
    "run_randomForests(X_train[selected_feat].fillna(0),\n",
    "                  X_test[selected_feat].fillna(0),\n",
    "                  y_train, y_test)"
   ]
  }
 ],
 "metadata": {
  "celltoolbar": "Slideshow",
  "kernelspec": {
   "display_name": "Python 3",
   "language": "python",
   "name": "python3"
  },
  "language_info": {
   "codemirror_mode": {
    "name": "ipython",
    "version": 3
   },
   "file_extension": ".py",
   "mimetype": "text/x-python",
   "name": "python",
   "nbconvert_exporter": "python",
   "pygments_lexer": "ipython3",
   "version": "3.6.9"
  }
 },
 "nbformat": 4,
 "nbformat_minor": 4
}
