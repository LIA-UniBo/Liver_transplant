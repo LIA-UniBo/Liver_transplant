{
 "cells": [
  {
   "cell_type": "code",
   "execution_count": null,
   "id": "8a5302a0",
   "metadata": {
    "ExecuteTime": {
     "end_time": "2022-06-21T11:04:33.372355Z",
     "start_time": "2022-06-21T11:04:31.073Z"
    }
   },
   "outputs": [],
   "source": [
    "%load_ext autoreload\n",
    "%autoreload 2\n",
    "\n",
    "import pandas as pd\n",
    "import numpy as np"
   ]
  },
  {
   "cell_type": "markdown",
   "id": "e134895a",
   "metadata": {},
   "source": [
    "# Hyperparameters"
   ]
  },
  {
   "cell_type": "code",
   "execution_count": null,
   "id": "903be061",
   "metadata": {
    "ExecuteTime": {
     "end_time": "2022-06-21T11:04:33.372863Z",
     "start_time": "2022-06-21T11:04:31.074Z"
    }
   },
   "outputs": [],
   "source": [
    "window = 30"
   ]
  },
  {
   "cell_type": "markdown",
   "id": "561dccef",
   "metadata": {},
   "source": [
    "# Preprocessing "
   ]
  },
  {
   "cell_type": "code",
   "execution_count": null,
   "id": "11e22305",
   "metadata": {
    "ExecuteTime": {
     "end_time": "2022-06-21T11:04:33.373449Z",
     "start_time": "2022-06-21T11:04:31.075Z"
    }
   },
   "outputs": [],
   "source": [
    "df = pd.read_excel('data.xlsx', engine='openpyxl')\n",
    "df.head(10)"
   ]
  },
  {
   "cell_type": "markdown",
   "id": "ebd5b9cd",
   "metadata": {},
   "source": [
    "### Remove every attribute with 20% of missing values"
   ]
  },
  {
   "cell_type": "code",
   "execution_count": null,
   "id": "87d8d93a",
   "metadata": {
    "ExecuteTime": {
     "end_time": "2022-06-21T11:04:33.373960Z",
     "start_time": "2022-06-21T11:04:31.075Z"
    }
   },
   "outputs": [],
   "source": [
    "missing_percent = {}\n",
    "for column in df.columns:\n",
    "    missing_percent[column] = df[column].isna().sum() / len(df)\n",
    "for column in sorted(missing_percent, key=missing_percent.get, reverse=True):\n",
    "    print('{}: {:.3f}'.format(column, missing_percent[column]))"
   ]
  },
  {
   "cell_type": "code",
   "execution_count": null,
   "id": "701f22b7",
   "metadata": {
    "ExecuteTime": {
     "end_time": "2022-06-21T11:04:33.374488Z",
     "start_time": "2022-06-21T11:04:31.076Z"
    }
   },
   "outputs": [],
   "source": [
    "date_columns = ['data_trapianto', 'data_decesso', 'lista_uscita_data', 'lista_ingresso_data']\n",
    "drop_list = [k for k, v in missing_percent.items() if v >= 0.198 and k not in date_columns] + \\\n",
    "            ['diagnosi', 'ctx', 'codice_dm', 'lista_id', 'Deceduto iscritto in lista']\n",
    "print(drop_list)\n",
    "df = df.drop(drop_list, axis=1)"
   ]
  },
  {
   "cell_type": "markdown",
   "id": "33e3d8e7",
   "metadata": {},
   "source": [
    "### Encoding Categorical Attributes"
   ]
  },
  {
   "cell_type": "code",
   "execution_count": null,
   "id": "ddeda577",
   "metadata": {
    "ExecuteTime": {
     "end_time": "2022-06-21T11:04:33.375030Z",
     "start_time": "2022-06-21T11:04:31.076Z"
    }
   },
   "outputs": [],
   "source": [
    "categories = ['pers_sesso', 'ric_HCV', 'HCC', 'trombosi_portale', 'ric_HBsAg',\n",
    "              'UNOS', 'ric_HIV', 'chirurgia_addom', 'iscriz_tx_comb']"
   ]
  },
  {
   "cell_type": "code",
   "execution_count": null,
   "id": "04c5951a",
   "metadata": {
    "ExecuteTime": {
     "end_time": "2022-06-21T11:04:33.375579Z",
     "start_time": "2022-06-21T11:04:31.077Z"
    }
   },
   "outputs": [],
   "source": [
    "df = pd.get_dummies(df, columns=categories, drop_first=True)"
   ]
  },
  {
   "cell_type": "markdown",
   "id": "d2e76ca6",
   "metadata": {},
   "source": [
    "### Define Censored Data and Compute ToS"
   ]
  },
  {
   "cell_type": "code",
   "execution_count": null,
   "id": "be045aaf",
   "metadata": {
    "ExecuteTime": {
     "end_time": "2022-06-21T11:04:33.376172Z",
     "start_time": "2022-06-21T11:04:31.077Z"
    }
   },
   "outputs": [],
   "source": [
    "df['deceased'] = np.zeros(len(df)) \n",
    "df['transplanted'] = np.zeros(len(df))"
   ]
  },
  {
   "cell_type": "code",
   "execution_count": null,
   "id": "5492953d",
   "metadata": {
    "ExecuteTime": {
     "end_time": "2022-06-21T11:04:33.376741Z",
     "start_time": "2022-06-21T11:04:31.078Z"
    }
   },
   "outputs": [],
   "source": [
    "for index, row in df.iterrows():\n",
    "    if not row['data_trapianto'] is pd.NaT:\n",
    "        # check if patient is transplanted\n",
    "        df.at[index, 'transplanted'] = 1\n",
    "    elif not row['data_decesso'] is pd.NaT:\n",
    "        # check if patient is deceased \n",
    "        df.at[index, 'deceased'] = 1\n",
    "    elif row['data_decesso'] is pd.NaT:\n",
    "        # patients data are censored if we have a date signifing the exit from the waiting list, but not a \n",
    "        # confirmend death date. Thus, only deceased people are uncensored. \n",
    "        df.at[index, 'data_decesso'] = row['lista_uscita_data']\n",
    "        \n",
    "# compute Time of Survival as number of day/months/weeks spent on the list before exiting it or dying \n",
    "df['ToS'] = (df['data_decesso'] - df['lista_ingresso_data']).dt.days / window"
   ]
  },
  {
   "cell_type": "code",
   "execution_count": null,
   "id": "67282fe2",
   "metadata": {
    "ExecuteTime": {
     "end_time": "2022-06-21T11:04:33.377247Z",
     "start_time": "2022-06-21T11:04:31.078Z"
    }
   },
   "outputs": [],
   "source": [
    "df.head(10)"
   ]
  },
  {
   "cell_type": "markdown",
   "id": "6c92adc6",
   "metadata": {},
   "source": [
    "# Building Machine Learning Model"
   ]
  },
  {
   "cell_type": "markdown",
   "id": "85db076a",
   "metadata": {},
   "source": [
    "## Non-transplanted"
   ]
  },
  {
   "cell_type": "code",
   "execution_count": null,
   "id": "b3f75785",
   "metadata": {
    "ExecuteTime": {
     "end_time": "2022-06-21T11:04:33.377778Z",
     "start_time": "2022-06-21T11:04:31.079Z"
    }
   },
   "outputs": [],
   "source": [
    "df_n_trans = df[df['transplanted'] == 0]\n",
    "df_n_trans = df_n_trans.drop(date_columns + ['transplanted'], axis=1)"
   ]
  },
  {
   "cell_type": "code",
   "execution_count": null,
   "id": "ae2ad897",
   "metadata": {
    "ExecuteTime": {
     "end_time": "2022-06-21T11:04:33.378295Z",
     "start_time": "2022-06-21T11:04:31.079Z"
    }
   },
   "outputs": [],
   "source": [
    "X = df_n_trans.drop(['ToS', 'deceased'], axis=1)\n",
    "y = df_n_trans[['ToS', 'deceased']]"
   ]
  },
  {
   "cell_type": "code",
   "execution_count": null,
   "id": "1fdad953",
   "metadata": {
    "ExecuteTime": {
     "end_time": "2022-06-21T11:04:33.378884Z",
     "start_time": "2022-06-21T11:04:31.080Z"
    }
   },
   "outputs": [],
   "source": [
    "from sklearn.model_selection import train_test_split\n",
    "\n",
    "X_train, X_test, y_train, y_test = train_test_split(X, y, test_size=0.33, random_state=42)"
   ]
  },
  {
   "cell_type": "code",
   "execution_count": null,
   "id": "4fe4d408",
   "metadata": {
    "ExecuteTime": {
     "end_time": "2022-06-21T11:04:33.379450Z",
     "start_time": "2022-06-21T11:04:31.080Z"
    }
   },
   "outputs": [],
   "source": [
    "from src.model import *\n",
    "\n",
    "model = SurvivalNN(len(X.iloc[0]), hidden=[32, 32])\n",
    "model.compile(optimizer='Adam')\n",
    "history = model.fit(X_train.astype('float32'), y_train.astype('float32'), batch_size=32, epochs=200, verbose=1)\n",
    "plt.plot(history.history['loss'])"
   ]
  },
  {
   "cell_type": "code",
   "execution_count": null,
   "id": "f659e2b6",
   "metadata": {},
   "outputs": [],
   "source": []
  }
 ],
 "metadata": {
  "kernelspec": {
   "display_name": "Python 3",
   "language": "python",
   "name": "python3"
  },
  "toc": {
   "base_numbering": 1,
   "nav_menu": {},
   "number_sections": true,
   "sideBar": true,
   "skip_h1_title": false,
   "title_cell": "Table of Contents",
   "title_sidebar": "Contents",
   "toc_cell": false,
   "toc_position": {},
   "toc_section_display": true,
   "toc_window_display": false
  },
  "varInspector": {
   "cols": {
    "lenName": 16,
    "lenType": 16,
    "lenVar": 40
   },
   "kernels_config": {
    "python": {
     "delete_cmd_postfix": "",
     "delete_cmd_prefix": "del ",
     "library": "var_list.py",
     "varRefreshCmd": "print(var_dic_list())"
    },
    "r": {
     "delete_cmd_postfix": ") ",
     "delete_cmd_prefix": "rm(",
     "library": "var_list.r",
     "varRefreshCmd": "cat(var_dic_list()) "
    }
   },
   "types_to_exclude": [
    "module",
    "function",
    "builtin_function_or_method",
    "instance",
    "_Feature"
   ],
   "window_display": false
  }
 },
 "nbformat": 4,
 "nbformat_minor": 5
}
