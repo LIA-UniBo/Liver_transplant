{
 "cells": [
  {
   "cell_type": "code",
   "execution_count": 1,
   "id": "8a5302a0",
   "metadata": {
    "ExecuteTime": {
     "end_time": "2022-06-21T11:20:18.620067Z",
     "start_time": "2022-06-21T11:20:18.428806Z"
    }
   },
   "outputs": [],
   "source": [
    "%load_ext autoreload\n",
    "%autoreload 2\n",
    "\n",
    "import pandas as pd\n",
    "import numpy as np"
   ]
  },
  {
   "cell_type": "markdown",
   "id": "e134895a",
   "metadata": {},
   "source": [
    "# Hyperparameters"
   ]
  },
  {
   "cell_type": "code",
   "execution_count": 2,
   "id": "903be061",
   "metadata": {
    "ExecuteTime": {
     "end_time": "2022-06-21T11:20:18.629262Z",
     "start_time": "2022-06-21T11:20:18.621416Z"
    }
   },
   "outputs": [],
   "source": [
    "window = 30"
   ]
  },
  {
   "cell_type": "markdown",
   "id": "561dccef",
   "metadata": {},
   "source": [
    "# Preprocessing "
   ]
  },
  {
   "cell_type": "code",
   "execution_count": 3,
   "id": "11e22305",
   "metadata": {
    "ExecuteTime": {
     "end_time": "2022-06-21T11:20:20.496939Z",
     "start_time": "2022-06-21T11:20:18.630569Z"
    }
   },
   "outputs": [
    {
     "data": {
      "text/html": [
       "<div>\n",
       "<style scoped>\n",
       "    .dataframe tbody tr th:only-of-type {\n",
       "        vertical-align: middle;\n",
       "    }\n",
       "\n",
       "    .dataframe tbody tr th {\n",
       "        vertical-align: top;\n",
       "    }\n",
       "\n",
       "    .dataframe thead th {\n",
       "        text-align: right;\n",
       "    }\n",
       "</style>\n",
       "<table border=\"1\" class=\"dataframe\">\n",
       "  <thead>\n",
       "    <tr style=\"text-align: right;\">\n",
       "      <th></th>\n",
       "      <th>ctx</th>\n",
       "      <th>codice_dm</th>\n",
       "      <th>lista_id</th>\n",
       "      <th>pers_sesso</th>\n",
       "      <th>pers_eta_ingresso_in_lista</th>\n",
       "      <th>diagnosi</th>\n",
       "      <th>diagnosi_specifica</th>\n",
       "      <th>eltr</th>\n",
       "      <th>lista_ingresso_data</th>\n",
       "      <th>tot_tx_organo</th>\n",
       "      <th>...</th>\n",
       "      <th>donatore_HBeAg</th>\n",
       "      <th>donatore_HBeAb</th>\n",
       "      <th>donatore_antiCoreTot</th>\n",
       "      <th>donatore_hbv_dna</th>\n",
       "      <th>donatore_hcv_rna</th>\n",
       "      <th>donatore_steatosiMacro</th>\n",
       "      <th>donatore_biopsiaEpatica</th>\n",
       "      <th>donatore_biopsiaRenale</th>\n",
       "      <th>donatore_livelloRischioPreLT</th>\n",
       "      <th>donatore_variazioneLivello</th>\n",
       "    </tr>\n",
       "  </thead>\n",
       "  <tbody>\n",
       "    <tr>\n",
       "      <th>0</th>\n",
       "      <td>BOLOGNA</td>\n",
       "      <td>12898</td>\n",
       "      <td>20412</td>\n",
       "      <td>M</td>\n",
       "      <td>54</td>\n",
       "      <td>Altra epatopatia</td>\n",
       "      <td>NaN</td>\n",
       "      <td>NaN</td>\n",
       "      <td>2004-03-10</td>\n",
       "      <td>0.0</td>\n",
       "      <td>...</td>\n",
       "      <td>NaN</td>\n",
       "      <td>NaN</td>\n",
       "      <td>NaN</td>\n",
       "      <td>NaN</td>\n",
       "      <td>NaN</td>\n",
       "      <td>NaN</td>\n",
       "      <td>NaN</td>\n",
       "      <td>NaN</td>\n",
       "      <td>NaN</td>\n",
       "      <td>NaN</td>\n",
       "    </tr>\n",
       "    <tr>\n",
       "      <th>1</th>\n",
       "      <td>BOLOGNA</td>\n",
       "      <td>12908</td>\n",
       "      <td>20422</td>\n",
       "      <td>M</td>\n",
       "      <td>64</td>\n",
       "      <td>Cirrosi postnecrotica da HCV</td>\n",
       "      <td>NaN</td>\n",
       "      <td>NaN</td>\n",
       "      <td>2003-12-02</td>\n",
       "      <td>NaN</td>\n",
       "      <td>...</td>\n",
       "      <td>NaN</td>\n",
       "      <td>NaN</td>\n",
       "      <td>NaN</td>\n",
       "      <td>NaN</td>\n",
       "      <td>NaN</td>\n",
       "      <td>NaN</td>\n",
       "      <td>NaN</td>\n",
       "      <td>NaN</td>\n",
       "      <td>NaN</td>\n",
       "      <td>NaN</td>\n",
       "    </tr>\n",
       "    <tr>\n",
       "      <th>2</th>\n",
       "      <td>BOLOGNA</td>\n",
       "      <td>12909</td>\n",
       "      <td>20423</td>\n",
       "      <td>M</td>\n",
       "      <td>56</td>\n",
       "      <td>Cirrosi criptogenetica o idiopatica</td>\n",
       "      <td>NaN</td>\n",
       "      <td>D11 : Cirrhosis-Cryptogenic (unknown) cirrhosis</td>\n",
       "      <td>2002-07-18</td>\n",
       "      <td>0.0</td>\n",
       "      <td>...</td>\n",
       "      <td>NaN</td>\n",
       "      <td>NaN</td>\n",
       "      <td>NaN</td>\n",
       "      <td>NaN</td>\n",
       "      <td>NaN</td>\n",
       "      <td>NaN</td>\n",
       "      <td>NaN</td>\n",
       "      <td>NaN</td>\n",
       "      <td>NaN</td>\n",
       "      <td>NaN</td>\n",
       "    </tr>\n",
       "    <tr>\n",
       "      <th>3</th>\n",
       "      <td>BOLOGNA</td>\n",
       "      <td>12913</td>\n",
       "      <td>20428</td>\n",
       "      <td>M</td>\n",
       "      <td>51</td>\n",
       "      <td>Cirrosi di Laennec (post-alcolica)</td>\n",
       "      <td>NaN</td>\n",
       "      <td>NaN</td>\n",
       "      <td>2003-06-26</td>\n",
       "      <td>NaN</td>\n",
       "      <td>...</td>\n",
       "      <td>NaN</td>\n",
       "      <td>NaN</td>\n",
       "      <td>NaN</td>\n",
       "      <td>NaN</td>\n",
       "      <td>NaN</td>\n",
       "      <td>NaN</td>\n",
       "      <td>NaN</td>\n",
       "      <td>NaN</td>\n",
       "      <td>NaN</td>\n",
       "      <td>NaN</td>\n",
       "    </tr>\n",
       "    <tr>\n",
       "      <th>4</th>\n",
       "      <td>BOLOGNA</td>\n",
       "      <td>12935</td>\n",
       "      <td>20450</td>\n",
       "      <td>M</td>\n",
       "      <td>43</td>\n",
       "      <td>Cirrosi postnecrotica da HCV</td>\n",
       "      <td>NaN</td>\n",
       "      <td>NaN</td>\n",
       "      <td>2004-01-08</td>\n",
       "      <td>NaN</td>\n",
       "      <td>...</td>\n",
       "      <td>NaN</td>\n",
       "      <td>NaN</td>\n",
       "      <td>NaN</td>\n",
       "      <td>NaN</td>\n",
       "      <td>NaN</td>\n",
       "      <td>NaN</td>\n",
       "      <td>NaN</td>\n",
       "      <td>NaN</td>\n",
       "      <td>NaN</td>\n",
       "      <td>NaN</td>\n",
       "    </tr>\n",
       "    <tr>\n",
       "      <th>5</th>\n",
       "      <td>BOLOGNA</td>\n",
       "      <td>12937</td>\n",
       "      <td>20452</td>\n",
       "      <td>F</td>\n",
       "      <td>63</td>\n",
       "      <td>Epatocarcinoma associato a cirrosi</td>\n",
       "      <td>NaN</td>\n",
       "      <td>NaN</td>\n",
       "      <td>2003-12-29</td>\n",
       "      <td>0.0</td>\n",
       "      <td>...</td>\n",
       "      <td>NaN</td>\n",
       "      <td>NaN</td>\n",
       "      <td>NaN</td>\n",
       "      <td>NaN</td>\n",
       "      <td>NaN</td>\n",
       "      <td>NaN</td>\n",
       "      <td>NaN</td>\n",
       "      <td>NaN</td>\n",
       "      <td>NaN</td>\n",
       "      <td>NaN</td>\n",
       "    </tr>\n",
       "    <tr>\n",
       "      <th>6</th>\n",
       "      <td>BOLOGNA</td>\n",
       "      <td>12939</td>\n",
       "      <td>20454</td>\n",
       "      <td>F</td>\n",
       "      <td>55</td>\n",
       "      <td>Cirrosi biliare primitiva</td>\n",
       "      <td>NaN</td>\n",
       "      <td>NaN</td>\n",
       "      <td>2003-10-02</td>\n",
       "      <td>NaN</td>\n",
       "      <td>...</td>\n",
       "      <td>NaN</td>\n",
       "      <td>NaN</td>\n",
       "      <td>NaN</td>\n",
       "      <td>NaN</td>\n",
       "      <td>NaN</td>\n",
       "      <td>NaN</td>\n",
       "      <td>NaN</td>\n",
       "      <td>NaN</td>\n",
       "      <td>NaN</td>\n",
       "      <td>NaN</td>\n",
       "    </tr>\n",
       "    <tr>\n",
       "      <th>7</th>\n",
       "      <td>BOLOGNA</td>\n",
       "      <td>12958</td>\n",
       "      <td>20473</td>\n",
       "      <td>M</td>\n",
       "      <td>63</td>\n",
       "      <td>Cirrosi postnecrotica da HCV</td>\n",
       "      <td>NaN</td>\n",
       "      <td>NaN</td>\n",
       "      <td>2003-07-31</td>\n",
       "      <td>NaN</td>\n",
       "      <td>...</td>\n",
       "      <td>NaN</td>\n",
       "      <td>NaN</td>\n",
       "      <td>NaN</td>\n",
       "      <td>NaN</td>\n",
       "      <td>NaN</td>\n",
       "      <td>NaN</td>\n",
       "      <td>NaN</td>\n",
       "      <td>NaN</td>\n",
       "      <td>NaN</td>\n",
       "      <td>NaN</td>\n",
       "    </tr>\n",
       "    <tr>\n",
       "      <th>8</th>\n",
       "      <td>BOLOGNA</td>\n",
       "      <td>12961</td>\n",
       "      <td>20476</td>\n",
       "      <td>M</td>\n",
       "      <td>62</td>\n",
       "      <td>Cirrosi postnecrotica da HBV HbsAg positiva</td>\n",
       "      <td>NaN</td>\n",
       "      <td>NaN</td>\n",
       "      <td>2003-07-24</td>\n",
       "      <td>NaN</td>\n",
       "      <td>...</td>\n",
       "      <td>NaN</td>\n",
       "      <td>NaN</td>\n",
       "      <td>NaN</td>\n",
       "      <td>NaN</td>\n",
       "      <td>NaN</td>\n",
       "      <td>NaN</td>\n",
       "      <td>NaN</td>\n",
       "      <td>NaN</td>\n",
       "      <td>NaN</td>\n",
       "      <td>NaN</td>\n",
       "    </tr>\n",
       "    <tr>\n",
       "      <th>9</th>\n",
       "      <td>BOLOGNA</td>\n",
       "      <td>12964</td>\n",
       "      <td>20479</td>\n",
       "      <td>M</td>\n",
       "      <td>43</td>\n",
       "      <td>Cirrosi postnecrotica da HCV</td>\n",
       "      <td>NaN</td>\n",
       "      <td>NaN</td>\n",
       "      <td>2004-02-23</td>\n",
       "      <td>0.0</td>\n",
       "      <td>...</td>\n",
       "      <td>NaN</td>\n",
       "      <td>NaN</td>\n",
       "      <td>NaN</td>\n",
       "      <td>NaN</td>\n",
       "      <td>NaN</td>\n",
       "      <td>NaN</td>\n",
       "      <td>NaN</td>\n",
       "      <td>NaN</td>\n",
       "      <td>NaN</td>\n",
       "      <td>NaN</td>\n",
       "    </tr>\n",
       "  </tbody>\n",
       "</table>\n",
       "<p>10 rows × 146 columns</p>\n",
       "</div>"
      ],
      "text/plain": [
       "       ctx  codice_dm  lista_id pers_sesso  pers_eta_ingresso_in_lista  \\\n",
       "0  BOLOGNA      12898     20412          M                          54   \n",
       "1  BOLOGNA      12908     20422          M                          64   \n",
       "2  BOLOGNA      12909     20423          M                          56   \n",
       "3  BOLOGNA      12913     20428          M                          51   \n",
       "4  BOLOGNA      12935     20450          M                          43   \n",
       "5  BOLOGNA      12937     20452          F                          63   \n",
       "6  BOLOGNA      12939     20454          F                          55   \n",
       "7  BOLOGNA      12958     20473          M                          63   \n",
       "8  BOLOGNA      12961     20476          M                          62   \n",
       "9  BOLOGNA      12964     20479          M                          43   \n",
       "\n",
       "                                      diagnosi diagnosi_specifica  \\\n",
       "0                             Altra epatopatia                NaN   \n",
       "1                 Cirrosi postnecrotica da HCV                NaN   \n",
       "2          Cirrosi criptogenetica o idiopatica                NaN   \n",
       "3           Cirrosi di Laennec (post-alcolica)                NaN   \n",
       "4                 Cirrosi postnecrotica da HCV                NaN   \n",
       "5           Epatocarcinoma associato a cirrosi                NaN   \n",
       "6                    Cirrosi biliare primitiva                NaN   \n",
       "7                 Cirrosi postnecrotica da HCV                NaN   \n",
       "8  Cirrosi postnecrotica da HBV HbsAg positiva                NaN   \n",
       "9                 Cirrosi postnecrotica da HCV                NaN   \n",
       "\n",
       "                                              eltr lista_ingresso_data  \\\n",
       "0                                              NaN          2004-03-10   \n",
       "1                                              NaN          2003-12-02   \n",
       "2  D11 : Cirrhosis-Cryptogenic (unknown) cirrhosis          2002-07-18   \n",
       "3                                              NaN          2003-06-26   \n",
       "4                                              NaN          2004-01-08   \n",
       "5                                              NaN          2003-12-29   \n",
       "6                                              NaN          2003-10-02   \n",
       "7                                              NaN          2003-07-31   \n",
       "8                                              NaN          2003-07-24   \n",
       "9                                              NaN          2004-02-23   \n",
       "\n",
       "   tot_tx_organo  ...  donatore_HBeAg donatore_HBeAb donatore_antiCoreTot  \\\n",
       "0            0.0  ...             NaN            NaN                  NaN   \n",
       "1            NaN  ...             NaN            NaN                  NaN   \n",
       "2            0.0  ...             NaN            NaN                  NaN   \n",
       "3            NaN  ...             NaN            NaN                  NaN   \n",
       "4            NaN  ...             NaN            NaN                  NaN   \n",
       "5            0.0  ...             NaN            NaN                  NaN   \n",
       "6            NaN  ...             NaN            NaN                  NaN   \n",
       "7            NaN  ...             NaN            NaN                  NaN   \n",
       "8            NaN  ...             NaN            NaN                  NaN   \n",
       "9            0.0  ...             NaN            NaN                  NaN   \n",
       "\n",
       "  donatore_hbv_dna donatore_hcv_rna donatore_steatosiMacro  \\\n",
       "0              NaN              NaN                    NaN   \n",
       "1              NaN              NaN                    NaN   \n",
       "2              NaN              NaN                    NaN   \n",
       "3              NaN              NaN                    NaN   \n",
       "4              NaN              NaN                    NaN   \n",
       "5              NaN              NaN                    NaN   \n",
       "6              NaN              NaN                    NaN   \n",
       "7              NaN              NaN                    NaN   \n",
       "8              NaN              NaN                    NaN   \n",
       "9              NaN              NaN                    NaN   \n",
       "\n",
       "  donatore_biopsiaEpatica donatore_biopsiaRenale donatore_livelloRischioPreLT  \\\n",
       "0                     NaN                    NaN                          NaN   \n",
       "1                     NaN                    NaN                          NaN   \n",
       "2                     NaN                    NaN                          NaN   \n",
       "3                     NaN                    NaN                          NaN   \n",
       "4                     NaN                    NaN                          NaN   \n",
       "5                     NaN                    NaN                          NaN   \n",
       "6                     NaN                    NaN                          NaN   \n",
       "7                     NaN                    NaN                          NaN   \n",
       "8                     NaN                    NaN                          NaN   \n",
       "9                     NaN                    NaN                          NaN   \n",
       "\n",
       "   donatore_variazioneLivello  \n",
       "0                         NaN  \n",
       "1                         NaN  \n",
       "2                         NaN  \n",
       "3                         NaN  \n",
       "4                         NaN  \n",
       "5                         NaN  \n",
       "6                         NaN  \n",
       "7                         NaN  \n",
       "8                         NaN  \n",
       "9                         NaN  \n",
       "\n",
       "[10 rows x 146 columns]"
      ]
     },
     "execution_count": 3,
     "metadata": {},
     "output_type": "execute_result"
    }
   ],
   "source": [
    "df = pd.read_excel('data.xlsx', engine='openpyxl')\n",
    "df.head(10)"
   ]
  },
  {
   "cell_type": "markdown",
   "id": "ebd5b9cd",
   "metadata": {},
   "source": [
    "### Remove every attribute with 20% of missing values"
   ]
  },
  {
   "cell_type": "code",
   "execution_count": 4,
   "id": "87d8d93a",
   "metadata": {
    "ExecuteTime": {
     "end_time": "2022-06-21T11:20:20.549615Z",
     "start_time": "2022-06-21T11:20:20.498271Z"
    }
   },
   "outputs": [
    {
     "name": "stdout",
     "output_type": "stream",
     "text": [
      "Na: 1.000\n",
      "fega_note: 0.999\n",
      "donatore_diabete_insulinodipendente_desc: 0.999\n",
      "donatore_bassaportata3_PAmin: 0.998\n",
      "donatore_bassaportata3_data: 0.997\n",
      "donatore_bassaportata3_ora: 0.997\n",
      "donatore_bassaportata3_durata: 0.997\n",
      "donatore_bassaportata3_PAmax: 0.997\n",
      "donatore_bassaportata3_trattamento: 0.997\n",
      "ISO2_tipo_super_urgenza: 0.997\n",
      "donatore_bassaportata2_PAmin: 0.995\n",
      "donatore_bassaportata2_PAmax: 0.993\n",
      "donatore_bassaportata2_durata: 0.991\n",
      "donatore_bassaportata2_ora: 0.990\n",
      "donatore_bassaportata2_trattamento: 0.990\n",
      "scheda48h_tipo_tx_effettivo_combinato: 0.989\n",
      "donatore_biopsiaRenale: 0.989\n",
      "donatore_bassaportata2_data: 0.988\n",
      "donatore_note: 0.980\n",
      "categoria_HCC: 0.977\n",
      "diagnosi_specifica: 0.974\n",
      "donatore_diabete_desc: 0.974\n",
      "donatore_dislipidemie_desc: 0.970\n",
      "trombosi_portale_note: 0.969\n",
      "ISO2_Ecc. MELD: 0.969\n",
      "donatore_bassaportata1_PAmin: 0.958\n",
      "donatore_variazioneLivello: 0.954\n",
      "tipo_combinato: 0.944\n",
      "ric_eccezione_MELD_PELD: 0.944\n",
      "donatore_bassaportata1_PAmax: 0.939\n",
      "donatore_HBeAg: 0.939\n",
      "donatore_bassaportata1_ora: 0.935\n",
      "donatore_HBeAb: 0.935\n",
      "ISO2_valid_score: 0.933\n",
      "ISO2_valid_increment: 0.933\n",
      "ISO2_valid_giorni: 0.933\n",
      "ISO2_valid_mesi: 0.933\n",
      "donatore_bassaportata1_durata: 0.932\n",
      "MELD_na: 0.929\n",
      "ISO2_allocazione: 0.929\n",
      "donatore_bassaportata1_trattamento: 0.926\n",
      "ISO2_valid_anzianita: 0.926\n",
      "donatore_ipertensione_desc: 0.910\n",
      "donatore_bassaportata1_data: 0.908\n",
      "HCC_stadio_TNM: 0.895\n",
      "donatore_cardiopatie_desc: 0.876\n",
      "donatore_fosfatasi1: 0.867\n",
      "MELD_HCC: 0.864\n",
      "donatore_fosfatasi3: 0.846\n",
      "donatore_decesso_note: 0.835\n",
      "donatore_gammaGT3: 0.831\n",
      "donatore_gammaGT1: 0.827\n",
      "donatore_biopsiaEpatica: 0.814\n",
      "HCC_noduli: 0.811\n",
      "HCC_downstaging: 0.811\n",
      "HCC_diam_max: 0.811\n",
      "HCC_diam_totale: 0.811\n",
      "HCC_resezione: 0.811\n",
      "HCC_esordio: 0.811\n",
      "donatore_AST3: 0.776\n",
      "donatore_bilirubinaTot3: 0.772\n",
      "donatore_fosfatasi2: 0.768\n",
      "donatore_ALT3: 0.756\n",
      "MELD_in_ingresso: 0.744\n",
      "MELD_in_uscita: 0.744\n",
      "donatore_sodio3: 0.744\n",
      "donatore_gammaGT2: 0.743\n",
      "AFP: 0.734\n",
      "tx_effettivo_data: 0.711\n",
      "scheda48h_tx_effettivo_combinato: 0.711\n",
      "ultimo_stato_tx: 0.694\n",
      "data_ultimo_agg_followup: 0.692\n",
      "donatore_AST2: 0.691\n",
      "donatore_AST1: 0.688\n",
      "donatore_bilirubinaTot2: 0.682\n",
      "rigetto: 0.669\n",
      "donatore_steatosiMacro: 0.668\n",
      "data_decesso: 0.667\n",
      "donatore_ALT2: 0.666\n",
      "donatore_bilirubinaTot1: 0.662\n",
      "ric_ripresa_funzionale: 0.642\n",
      "donatore_sodio2: 0.630\n",
      "donatore_hbv_dna: 0.628\n",
      "donatore_diabete_insulinodipendente: 0.626\n",
      "donatore_hcv_rna: 0.625\n",
      "eltr: 0.623\n",
      "donatore_ALT1: 0.623\n",
      "donatore_HBsAb: 0.613\n",
      "donatore_sodio1: 0.575\n",
      "TIPS: 0.527\n",
      "dialisi_ultimi_15gg: 0.505\n",
      "ric_DELTA: 0.505\n",
      "donatore_livelloRischioPreLT: 0.495\n",
      "donatore_dislipidemie: 0.494\n",
      "donazione_ospedale: 0.492\n",
      "donatore_arresto_cardiaco: 0.484\n",
      "donatore_cardiopatia: 0.482\n",
      "donazione_sede: 0.480\n",
      "donatore_ipertensione: 0.479\n",
      "donatore_diabete: 0.478\n",
      "donatore_giorni_ricovero: 0.477\n",
      "chirurgia_addom_note: 0.472\n",
      "donatore_altezza: 0.468\n",
      "donatore_BMI: 0.468\n",
      "donatore_hcv: 0.468\n",
      "donatore_antiCoreTot: 0.468\n",
      "donatore_peso: 0.467\n",
      "donatore_HBsAg: 0.467\n",
      "organo_trapiantato: 0.464\n",
      "ric_ospedalizzazione_al_tx: 0.463\n",
      "ric_HCV_RNA: 0.415\n",
      "codice_sit_donazione: 0.389\n",
      "trap_don_decesso_id: 0.389\n",
      "donatore_caus_decesso: 0.389\n",
      "donatore_sesso: 0.383\n",
      "donatore_eta: 0.381\n",
      "ischemia_fredda: 0.380\n",
      "tipo_donazione: 0.378\n",
      "data_trapianto: 0.376\n",
      "CHILD: 0.235\n",
      "ric_diabete: 0.218\n",
      "tot_tx_organo: 0.201\n",
      "tx_fegato_corrente: 0.199\n",
      "UNOS: 0.062\n",
      "diagnosi: 0.049\n",
      "ric_HIV: 0.040\n",
      "chirurgia_addom: 0.038\n",
      "trombosi_portale: 0.037\n",
      "ric_HCV: 0.036\n",
      "ric_HBsAg: 0.035\n",
      "HCC: 0.029\n",
      "data_UNOS: 0.025\n",
      "MELD_base: 0.023\n",
      "Altezza: 0.022\n",
      "BMI: 0.022\n",
      "Peso: 0.022\n",
      "causa_uscita: 0.003\n",
      "ctx: 0.000\n",
      "codice_dm: 0.000\n",
      "lista_id: 0.000\n",
      "pers_sesso: 0.000\n",
      "pers_eta_ingresso_in_lista: 0.000\n",
      "lista_ingresso_data: 0.000\n",
      "iscriz_tx_comb: 0.000\n",
      "lista_uscita_data: 0.000\n",
      "ISO2_super_urgenza: 0.000\n"
     ]
    }
   ],
   "source": [
    "missing_percent = {}\n",
    "for column in df.columns:\n",
    "    missing_percent[column] = df[column].isna().sum() / len(df)\n",
    "for column in sorted(missing_percent, key=missing_percent.get, reverse=True):\n",
    "    print('{}: {:.3f}'.format(column, missing_percent[column]))"
   ]
  },
  {
   "cell_type": "code",
   "execution_count": 5,
   "id": "701f22b7",
   "metadata": {
    "ExecuteTime": {
     "end_time": "2022-06-21T11:20:20.624951Z",
     "start_time": "2022-06-21T11:20:20.550718Z"
    }
   },
   "outputs": [
    {
     "name": "stdout",
     "output_type": "stream",
     "text": [
      "['diagnosi_specifica', 'eltr', 'tot_tx_organo', 'tx_fegato_corrente', 'tipo_combinato', 'ric_DELTA', 'ric_HCV_RNA', 'ric_eccezione_MELD_PELD', 'Na', 'MELD_in_ingresso', 'MELD_in_uscita', 'chirurgia_addom_note', 'trombosi_portale_note', 'TIPS', 'ric_diabete', 'categoria_HCC', 'HCC_esordio', 'HCC_noduli', 'HCC_downstaging', 'HCC_diam_max', 'HCC_diam_totale', 'HCC_stadio_TNM', 'HCC_resezione', 'MELD_na', 'MELD_HCC', 'AFP', 'dialisi_ultimi_15gg', 'tx_effettivo_data', 'scheda48h_tx_effettivo_combinato', 'scheda48h_tipo_tx_effettivo_combinato', 'fega_note', 'CHILD', 'ISO2_tipo_super_urgenza', 'ISO2_Ecc. MELD', 'ISO2_valid_score', 'ISO2_valid_increment', 'ISO2_valid_giorni', 'ISO2_valid_mesi', 'ISO2_valid_anzianita', 'ISO2_allocazione', 'ric_ospedalizzazione_al_tx', 'organo_trapiantato', 'ischemia_fredda', 'ric_ripresa_funzionale', 'rigetto', 'ultimo_stato_tx', 'data_ultimo_agg_followup', 'codice_sit_donazione', 'donazione_ospedale', 'donazione_sede', 'donatore_eta', 'donatore_sesso', 'trap_don_decesso_id', 'donatore_caus_decesso', 'donatore_decesso_note', 'tipo_donazione', 'donatore_note', 'donatore_peso', 'donatore_altezza', 'donatore_BMI', 'donatore_giorni_ricovero', 'donatore_cardiopatia', 'donatore_cardiopatie_desc', 'donatore_ipertensione', 'donatore_ipertensione_desc', 'donatore_diabete', 'donatore_diabete_desc', 'donatore_diabete_insulinodipendente', 'donatore_diabete_insulinodipendente_desc', 'donatore_dislipidemie', 'donatore_dislipidemie_desc', 'donatore_sodio1', 'donatore_sodio2', 'donatore_sodio3', 'donatore_AST1', 'donatore_AST2', 'donatore_AST3', 'donatore_ALT1', 'donatore_ALT2', 'donatore_ALT3', 'donatore_bilirubinaTot1', 'donatore_bilirubinaTot2', 'donatore_bilirubinaTot3', 'donatore_fosfatasi1', 'donatore_fosfatasi2', 'donatore_fosfatasi3', 'donatore_gammaGT1', 'donatore_gammaGT2', 'donatore_gammaGT3', 'donatore_arresto_cardiaco', 'donatore_bassaportata1_data', 'donatore_bassaportata1_ora', 'donatore_bassaportata1_durata', 'donatore_bassaportata1_PAmax', 'donatore_bassaportata1_PAmin', 'donatore_bassaportata1_trattamento', 'donatore_bassaportata2_data', 'donatore_bassaportata2_ora', 'donatore_bassaportata2_durata', 'donatore_bassaportata2_PAmax', 'donatore_bassaportata2_PAmin', 'donatore_bassaportata2_trattamento', 'donatore_bassaportata3_data', 'donatore_bassaportata3_ora', 'donatore_bassaportata3_durata', 'donatore_bassaportata3_PAmax', 'donatore_bassaportata3_PAmin', 'donatore_bassaportata3_trattamento', 'donatore_hcv', 'donatore_HBsAg', 'donatore_HBsAb', 'donatore_HBeAg', 'donatore_HBeAb', 'donatore_antiCoreTot', 'donatore_hbv_dna', 'donatore_hcv_rna', 'donatore_steatosiMacro', 'donatore_biopsiaEpatica', 'donatore_biopsiaRenale', 'donatore_livelloRischioPreLT', 'donatore_variazioneLivello', 'diagnosi', 'ctx', 'codice_dm', 'lista_id', 'Deceduto iscritto in lista']\n"
     ]
    },
    {
     "ename": "KeyError",
     "evalue": "\"['Deceduto iscritto in lista'] not found in axis\"",
     "output_type": "error",
     "traceback": [
      "\u001b[0;31m---------------------------------------------------------------------------\u001b[0m",
      "\u001b[0;31mKeyError\u001b[0m                                  Traceback (most recent call last)",
      "\u001b[0;32m<ipython-input-5-5a776d1e0cc4>\u001b[0m in \u001b[0;36m<module>\u001b[0;34m\u001b[0m\n\u001b[1;32m      3\u001b[0m             \u001b[0;34m[\u001b[0m\u001b[0;34m'diagnosi'\u001b[0m\u001b[0;34m,\u001b[0m \u001b[0;34m'ctx'\u001b[0m\u001b[0;34m,\u001b[0m \u001b[0;34m'codice_dm'\u001b[0m\u001b[0;34m,\u001b[0m \u001b[0;34m'lista_id'\u001b[0m\u001b[0;34m,\u001b[0m \u001b[0;34m'Deceduto iscritto in lista'\u001b[0m\u001b[0;34m]\u001b[0m\u001b[0;34m\u001b[0m\u001b[0;34m\u001b[0m\u001b[0m\n\u001b[1;32m      4\u001b[0m \u001b[0mprint\u001b[0m\u001b[0;34m(\u001b[0m\u001b[0mdrop_list\u001b[0m\u001b[0;34m)\u001b[0m\u001b[0;34m\u001b[0m\u001b[0;34m\u001b[0m\u001b[0m\n\u001b[0;32m----> 5\u001b[0;31m \u001b[0mdf\u001b[0m \u001b[0;34m=\u001b[0m \u001b[0mdf\u001b[0m\u001b[0;34m.\u001b[0m\u001b[0mdrop\u001b[0m\u001b[0;34m(\u001b[0m\u001b[0mdrop_list\u001b[0m\u001b[0;34m,\u001b[0m \u001b[0maxis\u001b[0m\u001b[0;34m=\u001b[0m\u001b[0;36m1\u001b[0m\u001b[0;34m)\u001b[0m\u001b[0;34m\u001b[0m\u001b[0;34m\u001b[0m\u001b[0m\n\u001b[0m",
      "\u001b[0;32m~/anaconda3/lib/python3.8/site-packages/pandas/core/frame.py\u001b[0m in \u001b[0;36mdrop\u001b[0;34m(self, labels, axis, index, columns, level, inplace, errors)\u001b[0m\n\u001b[1;32m   4306\u001b[0m                 \u001b[0mweight\u001b[0m  \u001b[0;36m1.0\u001b[0m     \u001b[0;36m0.8\u001b[0m\u001b[0;34m\u001b[0m\u001b[0;34m\u001b[0m\u001b[0m\n\u001b[1;32m   4307\u001b[0m         \"\"\"\n\u001b[0;32m-> 4308\u001b[0;31m         return super().drop(\n\u001b[0m\u001b[1;32m   4309\u001b[0m             \u001b[0mlabels\u001b[0m\u001b[0;34m=\u001b[0m\u001b[0mlabels\u001b[0m\u001b[0;34m,\u001b[0m\u001b[0;34m\u001b[0m\u001b[0;34m\u001b[0m\u001b[0m\n\u001b[1;32m   4310\u001b[0m             \u001b[0maxis\u001b[0m\u001b[0;34m=\u001b[0m\u001b[0maxis\u001b[0m\u001b[0;34m,\u001b[0m\u001b[0;34m\u001b[0m\u001b[0;34m\u001b[0m\u001b[0m\n",
      "\u001b[0;32m~/anaconda3/lib/python3.8/site-packages/pandas/core/generic.py\u001b[0m in \u001b[0;36mdrop\u001b[0;34m(self, labels, axis, index, columns, level, inplace, errors)\u001b[0m\n\u001b[1;32m   4151\u001b[0m         \u001b[0;32mfor\u001b[0m \u001b[0maxis\u001b[0m\u001b[0;34m,\u001b[0m \u001b[0mlabels\u001b[0m \u001b[0;32min\u001b[0m \u001b[0maxes\u001b[0m\u001b[0;34m.\u001b[0m\u001b[0mitems\u001b[0m\u001b[0;34m(\u001b[0m\u001b[0;34m)\u001b[0m\u001b[0;34m:\u001b[0m\u001b[0;34m\u001b[0m\u001b[0;34m\u001b[0m\u001b[0m\n\u001b[1;32m   4152\u001b[0m             \u001b[0;32mif\u001b[0m \u001b[0mlabels\u001b[0m \u001b[0;32mis\u001b[0m \u001b[0;32mnot\u001b[0m \u001b[0;32mNone\u001b[0m\u001b[0;34m:\u001b[0m\u001b[0;34m\u001b[0m\u001b[0;34m\u001b[0m\u001b[0m\n\u001b[0;32m-> 4153\u001b[0;31m                 \u001b[0mobj\u001b[0m \u001b[0;34m=\u001b[0m \u001b[0mobj\u001b[0m\u001b[0;34m.\u001b[0m\u001b[0m_drop_axis\u001b[0m\u001b[0;34m(\u001b[0m\u001b[0mlabels\u001b[0m\u001b[0;34m,\u001b[0m \u001b[0maxis\u001b[0m\u001b[0;34m,\u001b[0m \u001b[0mlevel\u001b[0m\u001b[0;34m=\u001b[0m\u001b[0mlevel\u001b[0m\u001b[0;34m,\u001b[0m \u001b[0merrors\u001b[0m\u001b[0;34m=\u001b[0m\u001b[0merrors\u001b[0m\u001b[0;34m)\u001b[0m\u001b[0;34m\u001b[0m\u001b[0;34m\u001b[0m\u001b[0m\n\u001b[0m\u001b[1;32m   4154\u001b[0m \u001b[0;34m\u001b[0m\u001b[0m\n\u001b[1;32m   4155\u001b[0m         \u001b[0;32mif\u001b[0m \u001b[0minplace\u001b[0m\u001b[0;34m:\u001b[0m\u001b[0;34m\u001b[0m\u001b[0;34m\u001b[0m\u001b[0m\n",
      "\u001b[0;32m~/anaconda3/lib/python3.8/site-packages/pandas/core/generic.py\u001b[0m in \u001b[0;36m_drop_axis\u001b[0;34m(self, labels, axis, level, errors)\u001b[0m\n\u001b[1;32m   4186\u001b[0m                 \u001b[0mnew_axis\u001b[0m \u001b[0;34m=\u001b[0m \u001b[0maxis\u001b[0m\u001b[0;34m.\u001b[0m\u001b[0mdrop\u001b[0m\u001b[0;34m(\u001b[0m\u001b[0mlabels\u001b[0m\u001b[0;34m,\u001b[0m \u001b[0mlevel\u001b[0m\u001b[0;34m=\u001b[0m\u001b[0mlevel\u001b[0m\u001b[0;34m,\u001b[0m \u001b[0merrors\u001b[0m\u001b[0;34m=\u001b[0m\u001b[0merrors\u001b[0m\u001b[0;34m)\u001b[0m\u001b[0;34m\u001b[0m\u001b[0;34m\u001b[0m\u001b[0m\n\u001b[1;32m   4187\u001b[0m             \u001b[0;32melse\u001b[0m\u001b[0;34m:\u001b[0m\u001b[0;34m\u001b[0m\u001b[0;34m\u001b[0m\u001b[0m\n\u001b[0;32m-> 4188\u001b[0;31m                 \u001b[0mnew_axis\u001b[0m \u001b[0;34m=\u001b[0m \u001b[0maxis\u001b[0m\u001b[0;34m.\u001b[0m\u001b[0mdrop\u001b[0m\u001b[0;34m(\u001b[0m\u001b[0mlabels\u001b[0m\u001b[0;34m,\u001b[0m \u001b[0merrors\u001b[0m\u001b[0;34m=\u001b[0m\u001b[0merrors\u001b[0m\u001b[0;34m)\u001b[0m\u001b[0;34m\u001b[0m\u001b[0;34m\u001b[0m\u001b[0m\n\u001b[0m\u001b[1;32m   4189\u001b[0m             \u001b[0mresult\u001b[0m \u001b[0;34m=\u001b[0m \u001b[0mself\u001b[0m\u001b[0;34m.\u001b[0m\u001b[0mreindex\u001b[0m\u001b[0;34m(\u001b[0m\u001b[0;34m**\u001b[0m\u001b[0;34m{\u001b[0m\u001b[0maxis_name\u001b[0m\u001b[0;34m:\u001b[0m \u001b[0mnew_axis\u001b[0m\u001b[0;34m}\u001b[0m\u001b[0;34m)\u001b[0m\u001b[0;34m\u001b[0m\u001b[0;34m\u001b[0m\u001b[0m\n\u001b[1;32m   4190\u001b[0m \u001b[0;34m\u001b[0m\u001b[0m\n",
      "\u001b[0;32m~/anaconda3/lib/python3.8/site-packages/pandas/core/indexes/base.py\u001b[0m in \u001b[0;36mdrop\u001b[0;34m(self, labels, errors)\u001b[0m\n\u001b[1;32m   5589\u001b[0m         \u001b[0;32mif\u001b[0m \u001b[0mmask\u001b[0m\u001b[0;34m.\u001b[0m\u001b[0many\u001b[0m\u001b[0;34m(\u001b[0m\u001b[0;34m)\u001b[0m\u001b[0;34m:\u001b[0m\u001b[0;34m\u001b[0m\u001b[0;34m\u001b[0m\u001b[0m\n\u001b[1;32m   5590\u001b[0m             \u001b[0;32mif\u001b[0m \u001b[0merrors\u001b[0m \u001b[0;34m!=\u001b[0m \u001b[0;34m\"ignore\"\u001b[0m\u001b[0;34m:\u001b[0m\u001b[0;34m\u001b[0m\u001b[0;34m\u001b[0m\u001b[0m\n\u001b[0;32m-> 5591\u001b[0;31m                 \u001b[0;32mraise\u001b[0m \u001b[0mKeyError\u001b[0m\u001b[0;34m(\u001b[0m\u001b[0;34mf\"{labels[mask]} not found in axis\"\u001b[0m\u001b[0;34m)\u001b[0m\u001b[0;34m\u001b[0m\u001b[0;34m\u001b[0m\u001b[0m\n\u001b[0m\u001b[1;32m   5592\u001b[0m             \u001b[0mindexer\u001b[0m \u001b[0;34m=\u001b[0m \u001b[0mindexer\u001b[0m\u001b[0;34m[\u001b[0m\u001b[0;34m~\u001b[0m\u001b[0mmask\u001b[0m\u001b[0;34m]\u001b[0m\u001b[0;34m\u001b[0m\u001b[0;34m\u001b[0m\u001b[0m\n\u001b[1;32m   5593\u001b[0m         \u001b[0;32mreturn\u001b[0m \u001b[0mself\u001b[0m\u001b[0;34m.\u001b[0m\u001b[0mdelete\u001b[0m\u001b[0;34m(\u001b[0m\u001b[0mindexer\u001b[0m\u001b[0;34m)\u001b[0m\u001b[0;34m\u001b[0m\u001b[0;34m\u001b[0m\u001b[0m\n",
      "\u001b[0;31mKeyError\u001b[0m: \"['Deceduto iscritto in lista'] not found in axis\""
     ]
    }
   ],
   "source": [
    "date_columns = ['data_trapianto', 'data_decesso', 'lista_uscita_data', 'lista_ingresso_data']\n",
    "drop_list = [k for k, v in missing_percent.items() if v >= 0.198 and k not in date_columns] + \\\n",
    "            ['diagnosi', 'ctx', 'codice_dm', 'lista_id']\n",
    "print(drop_list)\n",
    "df = df.drop(drop_list, axis=1)"
   ]
  },
  {
   "cell_type": "markdown",
   "id": "33e3d8e7",
   "metadata": {},
   "source": [
    "### Encoding Categorical Attributes"
   ]
  },
  {
   "cell_type": "code",
   "execution_count": null,
   "id": "ddeda577",
   "metadata": {
    "ExecuteTime": {
     "end_time": "2022-06-21T11:20:20.630139Z",
     "start_time": "2022-06-21T11:20:18.407Z"
    }
   },
   "outputs": [],
   "source": [
    "categories = ['pers_sesso', 'ric_HCV', 'HCC', 'trombosi_portale', 'ric_HBsAg',\n",
    "              'UNOS', 'ric_HIV', 'chirurgia_addom', 'iscriz_tx_comb']"
   ]
  },
  {
   "cell_type": "code",
   "execution_count": null,
   "id": "04c5951a",
   "metadata": {
    "ExecuteTime": {
     "end_time": "2022-06-21T11:20:20.630702Z",
     "start_time": "2022-06-21T11:20:18.408Z"
    }
   },
   "outputs": [],
   "source": [
    "df = pd.get_dummies(df, columns=categories, drop_first=True)"
   ]
  },
  {
   "cell_type": "markdown",
   "id": "d2e76ca6",
   "metadata": {},
   "source": [
    "### Define Censored Data and Compute ToS"
   ]
  },
  {
   "cell_type": "code",
   "execution_count": null,
   "id": "be045aaf",
   "metadata": {
    "ExecuteTime": {
     "end_time": "2022-06-21T11:20:20.631247Z",
     "start_time": "2022-06-21T11:20:18.408Z"
    }
   },
   "outputs": [],
   "source": [
    "df['deceased'] = np.zeros(len(df)) \n",
    "df['transplanted'] = np.zeros(len(df))"
   ]
  },
  {
   "cell_type": "code",
   "execution_count": null,
   "id": "5492953d",
   "metadata": {
    "ExecuteTime": {
     "end_time": "2022-06-21T11:20:20.631769Z",
     "start_time": "2022-06-21T11:20:18.409Z"
    }
   },
   "outputs": [],
   "source": [
    "for index, row in df.iterrows():\n",
    "    if not row['data_trapianto'] is pd.NaT:\n",
    "        # check if patient is transplanted\n",
    "        df.at[index, 'transplanted'] = 1\n",
    "    elif not row['data_decesso'] is pd.NaT:\n",
    "        # check if patient is deceased \n",
    "        df.at[index, 'deceased'] = 1\n",
    "    elif row['data_decesso'] is pd.NaT:\n",
    "        # patients data are censored if we have a date signifing the exit from the waiting list, but not a \n",
    "        # confirmend death date. Thus, only deceased people are uncensored. \n",
    "        df.at[index, 'data_decesso'] = row['lista_uscita_data']\n",
    "        \n",
    "# compute Time of Survival as number of day/months/weeks spent on the list before exiting it or dying \n",
    "df['ToS'] = (df['data_decesso'] - df['lista_ingresso_data']).dt.days / window"
   ]
  },
  {
   "cell_type": "code",
   "execution_count": null,
   "id": "67282fe2",
   "metadata": {
    "ExecuteTime": {
     "end_time": "2022-06-21T11:20:20.632291Z",
     "start_time": "2022-06-21T11:20:18.409Z"
    }
   },
   "outputs": [],
   "source": [
    "df.head(10)"
   ]
  },
  {
   "cell_type": "markdown",
   "id": "6c92adc6",
   "metadata": {},
   "source": [
    "# Building Machine Learning Model"
   ]
  },
  {
   "cell_type": "markdown",
   "id": "85db076a",
   "metadata": {},
   "source": [
    "## Non-transplanted"
   ]
  },
  {
   "cell_type": "code",
   "execution_count": null,
   "id": "b3f75785",
   "metadata": {
    "ExecuteTime": {
     "end_time": "2022-06-21T11:20:20.632851Z",
     "start_time": "2022-06-21T11:20:18.410Z"
    }
   },
   "outputs": [],
   "source": [
    "df_n_trans = df[df['transplanted'] == 0]\n",
    "df_n_trans = df_n_trans.drop(date_columns + ['transplanted'], axis=1)"
   ]
  },
  {
   "cell_type": "code",
   "execution_count": null,
   "id": "ae2ad897",
   "metadata": {
    "ExecuteTime": {
     "end_time": "2022-06-21T11:20:20.633361Z",
     "start_time": "2022-06-21T11:20:18.410Z"
    }
   },
   "outputs": [],
   "source": [
    "X = df_n_trans.drop(['ToS', 'deceased'], axis=1)\n",
    "y = df_n_trans[['ToS', 'deceased']]"
   ]
  },
  {
   "cell_type": "code",
   "execution_count": null,
   "id": "1fdad953",
   "metadata": {
    "ExecuteTime": {
     "end_time": "2022-06-21T11:20:20.633837Z",
     "start_time": "2022-06-21T11:20:18.411Z"
    }
   },
   "outputs": [],
   "source": [
    "from sklearn.model_selection import train_test_split\n",
    "\n",
    "X_train, X_test, y_train, y_test = train_test_split(X, y, test_size=0.33, random_state=42)"
   ]
  },
  {
   "cell_type": "code",
   "execution_count": null,
   "id": "4fe4d408",
   "metadata": {
    "ExecuteTime": {
     "end_time": "2022-06-21T11:20:20.634333Z",
     "start_time": "2022-06-21T11:20:18.411Z"
    }
   },
   "outputs": [],
   "source": [
    "from src.model import *\n",
    "\n",
    "model = SurvivalNN(len(X.iloc[0]), hidden=[32, 32])\n",
    "model.compile(optimizer='Adam')\n",
    "history = model.fit(X_train.astype('float32'), y_train.astype('float32'), batch_size=32, epochs=200, verbose=1)\n",
    "plt.plot(history.history['loss'])"
   ]
  },
  {
   "cell_type": "code",
   "execution_count": null,
   "id": "f659e2b6",
   "metadata": {},
   "outputs": [],
   "source": []
  }
 ],
 "metadata": {
  "kernelspec": {
   "display_name": "Python 3",
   "language": "python",
   "name": "python3"
  },
  "language_info": {
   "codemirror_mode": {
    "name": "ipython",
    "version": 3
   },
   "file_extension": ".py",
   "mimetype": "text/x-python",
   "name": "python",
   "nbconvert_exporter": "python",
   "pygments_lexer": "ipython3",
   "version": "3.8.8"
  },
  "toc": {
   "base_numbering": 1,
   "nav_menu": {},
   "number_sections": true,
   "sideBar": true,
   "skip_h1_title": false,
   "title_cell": "Table of Contents",
   "title_sidebar": "Contents",
   "toc_cell": false,
   "toc_position": {},
   "toc_section_display": true,
   "toc_window_display": false
  },
  "varInspector": {
   "cols": {
    "lenName": 16,
    "lenType": 16,
    "lenVar": 40
   },
   "kernels_config": {
    "python": {
     "delete_cmd_postfix": "",
     "delete_cmd_prefix": "del ",
     "library": "var_list.py",
     "varRefreshCmd": "print(var_dic_list())"
    },
    "r": {
     "delete_cmd_postfix": ") ",
     "delete_cmd_prefix": "rm(",
     "library": "var_list.r",
     "varRefreshCmd": "cat(var_dic_list()) "
    }
   },
   "types_to_exclude": [
    "module",
    "function",
    "builtin_function_or_method",
    "instance",
    "_Feature"
   ],
   "window_display": false
  }
 },
 "nbformat": 4,
 "nbformat_minor": 5
}
